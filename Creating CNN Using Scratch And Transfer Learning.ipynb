{
 "cells": [
  {
   "cell_type": "code",
   "execution_count": 1,
   "id": "8a468ddb",
   "metadata": {},
   "outputs": [],
   "source": [
    "\n",
    "# import the libraries as shown below\n",
    "\n",
    "from tensorflow.keras.layers import Input, Lambda, Dense, Flatten,Conv2D\n",
    "from tensorflow.keras.models import Model\n",
    "from tensorflow.keras.applications.vgg19 import VGG19\n",
    "from tensorflow.keras.applications.resnet50 import preprocess_input\n",
    "from tensorflow.keras.preprocessing import image\n",
    "from tensorflow.keras.preprocessing.image import ImageDataGenerator,load_img\n",
    "from tensorflow.keras.models import Sequential\n",
    "import numpy as np\n",
    "from glob import glob\n",
    "import matplotlib.pyplot as plt"
   ]
  },
  {
   "cell_type": "code",
   "execution_count": 2,
   "id": "4edaa42a",
   "metadata": {},
   "outputs": [],
   "source": [
    "\n",
    "# re-size all the images to this\n",
    "IMAGE_SIZE = [224, 224]\n",
    "\n",
    "train_path = 'cell_images/Train'\n",
    "valid_path = 'cell_images/Test'"
   ]
  },
  {
   "cell_type": "code",
   "execution_count": 3,
   "id": "6a1515f7",
   "metadata": {},
   "outputs": [
    {
     "name": "stdout",
     "output_type": "stream",
     "text": [
      "Downloading data from https://storage.googleapis.com/tensorflow/keras-applications/vgg19/vgg19_weights_tf_dim_ordering_tf_kernels_notop.h5\n",
      "80142336/80134624 [==============================] - 5s 0us/step\n"
     ]
    }
   ],
   "source": [
    "# Import the Vgg 16 library as shown below and add preprocessing layer to the front of VGG\n",
    "# Here we will be using imagenet weights\n",
    "\n",
    "mobilnet = VGG19(input_shape=IMAGE_SIZE + [3], weights='imagenet', include_top=False)"
   ]
  },
  {
   "cell_type": "code",
   "execution_count": 4,
   "id": "655a3779",
   "metadata": {},
   "outputs": [],
   "source": [
    "# don't train existing weights\n",
    "for layer in mobilnet.layers:\n",
    "    layer.trainable = False"
   ]
  },
  {
   "cell_type": "code",
   "execution_count": 5,
   "id": "7dee2ea9",
   "metadata": {},
   "outputs": [],
   "source": [
    "# useful for getting number of output classes\n",
    "folders = glob('Dataset/Train/*')"
   ]
  },
  {
   "cell_type": "code",
   "execution_count": 6,
   "id": "47b95867",
   "metadata": {},
   "outputs": [
    {
     "data": {
      "text/plain": [
       "['Dataset/Train\\\\Parasite', 'Dataset/Train\\\\Uninfected']"
      ]
     },
     "execution_count": 6,
     "metadata": {},
     "output_type": "execute_result"
    }
   ],
   "source": [
    "folders"
   ]
  },
  {
   "cell_type": "code",
   "execution_count": 7,
   "id": "4182c7d4",
   "metadata": {},
   "outputs": [],
   "source": [
    "# our layers - you can add more if you want\n",
    "x = Flatten()(mobilnet.output)"
   ]
  },
  {
   "cell_type": "code",
   "execution_count": 8,
   "id": "5eaa5976",
   "metadata": {},
   "outputs": [],
   "source": [
    "prediction = Dense(len(folders), activation='softmax')(x)\n",
    "\n",
    "# create a model object\n",
    "model = Model(inputs=mobilnet.input, outputs=prediction)"
   ]
  },
  {
   "cell_type": "code",
   "execution_count": 9,
   "id": "bd193166",
   "metadata": {
    "scrolled": true
   },
   "outputs": [
    {
     "name": "stdout",
     "output_type": "stream",
     "text": [
      "Model: \"model\"\n",
      "_________________________________________________________________\n",
      "Layer (type)                 Output Shape              Param #   \n",
      "=================================================================\n",
      "input_1 (InputLayer)         [(None, 224, 224, 3)]     0         \n",
      "_________________________________________________________________\n",
      "block1_conv1 (Conv2D)        (None, 224, 224, 64)      1792      \n",
      "_________________________________________________________________\n",
      "block1_conv2 (Conv2D)        (None, 224, 224, 64)      36928     \n",
      "_________________________________________________________________\n",
      "block1_pool (MaxPooling2D)   (None, 112, 112, 64)      0         \n",
      "_________________________________________________________________\n",
      "block2_conv1 (Conv2D)        (None, 112, 112, 128)     73856     \n",
      "_________________________________________________________________\n",
      "block2_conv2 (Conv2D)        (None, 112, 112, 128)     147584    \n",
      "_________________________________________________________________\n",
      "block2_pool (MaxPooling2D)   (None, 56, 56, 128)       0         \n",
      "_________________________________________________________________\n",
      "block3_conv1 (Conv2D)        (None, 56, 56, 256)       295168    \n",
      "_________________________________________________________________\n",
      "block3_conv2 (Conv2D)        (None, 56, 56, 256)       590080    \n",
      "_________________________________________________________________\n",
      "block3_conv3 (Conv2D)        (None, 56, 56, 256)       590080    \n",
      "_________________________________________________________________\n",
      "block3_conv4 (Conv2D)        (None, 56, 56, 256)       590080    \n",
      "_________________________________________________________________\n",
      "block3_pool (MaxPooling2D)   (None, 28, 28, 256)       0         \n",
      "_________________________________________________________________\n",
      "block4_conv1 (Conv2D)        (None, 28, 28, 512)       1180160   \n",
      "_________________________________________________________________\n",
      "block4_conv2 (Conv2D)        (None, 28, 28, 512)       2359808   \n",
      "_________________________________________________________________\n",
      "block4_conv3 (Conv2D)        (None, 28, 28, 512)       2359808   \n",
      "_________________________________________________________________\n",
      "block4_conv4 (Conv2D)        (None, 28, 28, 512)       2359808   \n",
      "_________________________________________________________________\n",
      "block4_pool (MaxPooling2D)   (None, 14, 14, 512)       0         \n",
      "_________________________________________________________________\n",
      "block5_conv1 (Conv2D)        (None, 14, 14, 512)       2359808   \n",
      "_________________________________________________________________\n",
      "block5_conv2 (Conv2D)        (None, 14, 14, 512)       2359808   \n",
      "_________________________________________________________________\n",
      "block5_conv3 (Conv2D)        (None, 14, 14, 512)       2359808   \n",
      "_________________________________________________________________\n",
      "block5_conv4 (Conv2D)        (None, 14, 14, 512)       2359808   \n",
      "_________________________________________________________________\n",
      "block5_pool (MaxPooling2D)   (None, 7, 7, 512)         0         \n",
      "_________________________________________________________________\n",
      "flatten (Flatten)            (None, 25088)             0         \n",
      "_________________________________________________________________\n",
      "dense (Dense)                (None, 2)                 50178     \n",
      "=================================================================\n",
      "Total params: 20,074,562\n",
      "Trainable params: 50,178\n",
      "Non-trainable params: 20,024,384\n",
      "_________________________________________________________________\n"
     ]
    }
   ],
   "source": [
    "# view the structure of the model\n",
    "model.summary()"
   ]
  },
  {
   "cell_type": "code",
   "execution_count": 10,
   "id": "13fd95f4",
   "metadata": {},
   "outputs": [],
   "source": [
    "from tensorflow.keras.layers import MaxPooling2D"
   ]
  },
  {
   "cell_type": "code",
   "execution_count": 11,
   "id": "ab893e27",
   "metadata": {
    "scrolled": true
   },
   "outputs": [
    {
     "name": "stdout",
     "output_type": "stream",
     "text": [
      "Model: \"sequential\"\n",
      "_________________________________________________________________\n",
      "Layer (type)                 Output Shape              Param #   \n",
      "=================================================================\n",
      "conv2d (Conv2D)              (None, 224, 224, 16)      208       \n",
      "_________________________________________________________________\n",
      "max_pooling2d (MaxPooling2D) (None, 112, 112, 16)      0         \n",
      "_________________________________________________________________\n",
      "conv2d_1 (Conv2D)            (None, 112, 112, 32)      2080      \n",
      "_________________________________________________________________\n",
      "max_pooling2d_1 (MaxPooling2 (None, 56, 56, 32)        0         \n",
      "_________________________________________________________________\n",
      "conv2d_2 (Conv2D)            (None, 56, 56, 64)        8256      \n",
      "_________________________________________________________________\n",
      "max_pooling2d_2 (MaxPooling2 (None, 28, 28, 64)        0         \n",
      "_________________________________________________________________\n",
      "flatten_1 (Flatten)          (None, 50176)             0         \n",
      "_________________________________________________________________\n",
      "dense_1 (Dense)              (None, 500)               25088500  \n",
      "_________________________________________________________________\n",
      "dense_2 (Dense)              (None, 2)                 1002      \n",
      "=================================================================\n",
      "Total params: 25,100,046\n",
      "Trainable params: 25,100,046\n",
      "Non-trainable params: 0\n",
      "_________________________________________________________________\n"
     ]
    }
   ],
   "source": [
    "### Create Model from scratch using CNN\n",
    "model=Sequential()\n",
    "model.add(Conv2D(filters=16,kernel_size=2,padding=\"same\",activation=\"relu\",input_shape=(224,224,3)))\n",
    "model.add(MaxPooling2D(pool_size=2))\n",
    "model.add(Conv2D(filters=32,kernel_size=2,padding=\"same\",activation =\"relu\"))\n",
    "model.add(MaxPooling2D(pool_size=2))\n",
    "model.add(Conv2D(filters=64,kernel_size=2,padding=\"same\",activation=\"relu\"))\n",
    "model.add(MaxPooling2D(pool_size=2))\n",
    "model.add(Flatten())\n",
    "model.add(Dense(500,activation=\"relu\"))\n",
    "model.add(Dense(2,activation=\"softmax\"))\n",
    "model.summary()"
   ]
  },
  {
   "cell_type": "code",
   "execution_count": 12,
   "id": "d920269f",
   "metadata": {},
   "outputs": [],
   "source": [
    "# tell the model what cost and optimization method to use\n",
    "model.compile(\n",
    "  loss='categorical_crossentropy',\n",
    "  optimizer='adam',\n",
    "  metrics=['accuracy']\n",
    ")"
   ]
  },
  {
   "cell_type": "code",
   "execution_count": 13,
   "id": "ddecdec7",
   "metadata": {},
   "outputs": [],
   "source": [
    "# Use the Image Data Generator to import the images from the dataset\n",
    "from tensorflow.keras.preprocessing.image import ImageDataGenerator\n",
    "\n",
    "train_datagen = ImageDataGenerator(rescale = 1./255,\n",
    "                                   shear_range = 0.2,\n",
    "                                   zoom_range = 0.2,\n",
    "                                   horizontal_flip = True)\n",
    "\n",
    "test_datagen = ImageDataGenerator(rescale = 1./255)"
   ]
  },
  {
   "cell_type": "code",
   "execution_count": 14,
   "id": "75db2c29",
   "metadata": {},
   "outputs": [
    {
     "name": "stdout",
     "output_type": "stream",
     "text": [
      "Found 416 images belonging to 2 classes.\n"
     ]
    }
   ],
   "source": [
    "# Make sure you provide the same target size as initialied for the image size\n",
    "training_set = train_datagen.flow_from_directory('Dataset/Train',\n",
    "                                                 target_size = (224, 224),\n",
    "                                                 batch_size = 32,\n",
    "                                                 class_mode = 'categorical')"
   ]
  },
  {
   "cell_type": "code",
   "execution_count": 15,
   "id": "a52ef8cb",
   "metadata": {},
   "outputs": [
    {
     "data": {
      "text/plain": [
       "<tensorflow.python.keras.preprocessing.image.DirectoryIterator at 0x27280a218e0>"
      ]
     },
     "execution_count": 15,
     "metadata": {},
     "output_type": "execute_result"
    }
   ],
   "source": [
    "training_set"
   ]
  },
  {
   "cell_type": "code",
   "execution_count": 16,
   "id": "56e1a402",
   "metadata": {},
   "outputs": [
    {
     "name": "stdout",
     "output_type": "stream",
     "text": [
      "Found 134 images belonging to 2 classes.\n"
     ]
    }
   ],
   "source": [
    "test_set = test_datagen.flow_from_directory('Dataset/Test',\n",
    "                                            target_size = (224, 224),\n",
    "                                            batch_size = 32,\n",
    "                                            class_mode = 'categorical')"
   ]
  },
  {
   "cell_type": "code",
   "execution_count": 18,
   "id": "4b4b6daa",
   "metadata": {},
   "outputs": [
    {
     "name": "stderr",
     "output_type": "stream",
     "text": [
      "C:\\Users\\suyas\\anaconda3\\lib\\site-packages\\tensorflow\\python\\keras\\engine\\training.py:1940: UserWarning: `Model.fit_generator` is deprecated and will be removed in a future version. Please use `Model.fit`, which supports generators.\n",
      "  warnings.warn('`Model.fit_generator` is deprecated and '\n"
     ]
    },
    {
     "name": "stdout",
     "output_type": "stream",
     "text": [
      "Epoch 1/50\n",
      "13/13 [==============================] - 28s 2s/step - loss: 2.7165 - accuracy: 0.4663 - val_loss: 0.8590 - val_accuracy: 0.3209\n",
      "Epoch 2/50\n",
      "13/13 [==============================] - 17s 1s/step - loss: 0.6949 - accuracy: 0.5457 - val_loss: 0.6606 - val_accuracy: 0.6791\n",
      "Epoch 3/50\n",
      "13/13 [==============================] - 16s 1s/step - loss: 0.6872 - accuracy: 0.5288 - val_loss: 0.6755 - val_accuracy: 0.6418\n",
      "Epoch 4/50\n",
      "13/13 [==============================] - 17s 1s/step - loss: 0.6819 - accuracy: 0.5938 - val_loss: 0.6907 - val_accuracy: 0.5373\n",
      "Epoch 5/50\n",
      "13/13 [==============================] - 18s 1s/step - loss: 0.6777 - accuracy: 0.5721 - val_loss: 0.7937 - val_accuracy: 0.3358\n",
      "Epoch 6/50\n",
      "13/13 [==============================] - 17s 1s/step - loss: 0.6790 - accuracy: 0.5529 - val_loss: 0.6676 - val_accuracy: 0.5746\n",
      "Epoch 7/50\n",
      "13/13 [==============================] - 16s 1s/step - loss: 0.6532 - accuracy: 0.6322 - val_loss: 0.7149 - val_accuracy: 0.4104\n",
      "Epoch 8/50\n",
      "13/13 [==============================] - 16s 1s/step - loss: 0.6224 - accuracy: 0.6587 - val_loss: 0.6632 - val_accuracy: 0.5821\n",
      "Epoch 9/50\n",
      "13/13 [==============================] - 20s 1s/step - loss: 0.6083 - accuracy: 0.6683 - val_loss: 0.8360 - val_accuracy: 0.3955\n",
      "Epoch 10/50\n",
      "13/13 [==============================] - 20s 2s/step - loss: 0.5746 - accuracy: 0.7067 - val_loss: 0.7882 - val_accuracy: 0.3955\n",
      "Epoch 11/50\n",
      "13/13 [==============================] - 18s 1s/step - loss: 0.5078 - accuracy: 0.7428 - val_loss: 0.8803 - val_accuracy: 0.3358\n",
      "Epoch 12/50\n",
      "13/13 [==============================] - 20s 2s/step - loss: 0.4804 - accuracy: 0.7644 - val_loss: 1.0218 - val_accuracy: 0.3433\n",
      "Epoch 13/50\n",
      "13/13 [==============================] - 17s 1s/step - loss: 0.5113 - accuracy: 0.7476 - val_loss: 1.0093 - val_accuracy: 0.6791\n",
      "Epoch 14/50\n",
      "13/13 [==============================] - 16s 1s/step - loss: 0.4841 - accuracy: 0.7572 - val_loss: 0.8764 - val_accuracy: 0.3284\n",
      "Epoch 15/50\n",
      "13/13 [==============================] - 17s 1s/step - loss: 0.4648 - accuracy: 0.7909 - val_loss: 1.3920 - val_accuracy: 0.3433\n",
      "Epoch 16/50\n",
      "13/13 [==============================] - 20s 2s/step - loss: 0.4722 - accuracy: 0.7788 - val_loss: 0.8339 - val_accuracy: 0.3955\n",
      "Epoch 17/50\n",
      "13/13 [==============================] - 20s 2s/step - loss: 0.4902 - accuracy: 0.7548 - val_loss: 0.9125 - val_accuracy: 0.4030\n",
      "Epoch 18/50\n",
      "13/13 [==============================] - 20s 1s/step - loss: 0.4309 - accuracy: 0.8077 - val_loss: 1.0622 - val_accuracy: 0.3284\n",
      "Epoch 19/50\n",
      "13/13 [==============================] - 20s 2s/step - loss: 0.4486 - accuracy: 0.7812 - val_loss: 0.9614 - val_accuracy: 0.3731\n",
      "Epoch 20/50\n",
      "13/13 [==============================] - 20s 2s/step - loss: 0.4092 - accuracy: 0.8125 - val_loss: 0.8435 - val_accuracy: 0.4030\n",
      "Epoch 21/50\n",
      "13/13 [==============================] - 21s 2s/step - loss: 0.3808 - accuracy: 0.8341 - val_loss: 1.0287 - val_accuracy: 0.4104\n",
      "Epoch 22/50\n",
      "13/13 [==============================] - 21s 2s/step - loss: 0.3912 - accuracy: 0.8173 - val_loss: 0.9680 - val_accuracy: 0.4179\n",
      "Epoch 23/50\n",
      "13/13 [==============================] - 20s 2s/step - loss: 0.3413 - accuracy: 0.8654 - val_loss: 0.8016 - val_accuracy: 0.4701\n",
      "Epoch 24/50\n",
      "13/13 [==============================] - 20s 2s/step - loss: 0.3211 - accuracy: 0.8678 - val_loss: 0.6175 - val_accuracy: 0.6045\n",
      "Epoch 25/50\n",
      "13/13 [==============================] - 17s 1s/step - loss: 0.3015 - accuracy: 0.8774 - val_loss: 0.6331 - val_accuracy: 0.6045\n",
      "Epoch 26/50\n",
      "13/13 [==============================] - 18s 1s/step - loss: 0.2677 - accuracy: 0.9111 - val_loss: 0.6552 - val_accuracy: 0.6119\n",
      "Epoch 27/50\n",
      "13/13 [==============================] - 21s 2s/step - loss: 0.2461 - accuracy: 0.9231 - val_loss: 0.4752 - val_accuracy: 0.7836\n",
      "Epoch 28/50\n",
      "13/13 [==============================] - 16s 1s/step - loss: 0.2919 - accuracy: 0.8966 - val_loss: 0.5234 - val_accuracy: 0.7313\n",
      "Epoch 29/50\n",
      "13/13 [==============================] - 18s 1s/step - loss: 0.2847 - accuracy: 0.8942 - val_loss: 0.8776 - val_accuracy: 0.5373\n",
      "Epoch 30/50\n",
      "13/13 [==============================] - 20s 2s/step - loss: 0.2754 - accuracy: 0.8774 - val_loss: 0.9531 - val_accuracy: 0.5373\n",
      "Epoch 31/50\n",
      "13/13 [==============================] - 20s 2s/step - loss: 0.3370 - accuracy: 0.8558 - val_loss: 0.4519 - val_accuracy: 0.7537\n",
      "Epoch 32/50\n",
      "13/13 [==============================] - 20s 1s/step - loss: 0.2826 - accuracy: 0.8990 - val_loss: 0.6235 - val_accuracy: 0.6343\n",
      "Epoch 33/50\n",
      "13/13 [==============================] - 18s 1s/step - loss: 0.2083 - accuracy: 0.9399 - val_loss: 0.4655 - val_accuracy: 0.7836\n",
      "Epoch 34/50\n",
      "13/13 [==============================] - 17s 1s/step - loss: 0.2075 - accuracy: 0.9207 - val_loss: 0.6691 - val_accuracy: 0.7015\n",
      "Epoch 35/50\n",
      "13/13 [==============================] - 19s 1s/step - loss: 0.1752 - accuracy: 0.9327 - val_loss: 0.5459 - val_accuracy: 0.7537\n",
      "Epoch 36/50\n",
      "13/13 [==============================] - 20s 2s/step - loss: 0.1407 - accuracy: 0.9567 - val_loss: 0.4118 - val_accuracy: 0.8209\n",
      "Epoch 37/50\n",
      "13/13 [==============================] - 20s 2s/step - loss: 0.1236 - accuracy: 0.9639 - val_loss: 0.3955 - val_accuracy: 0.8284\n",
      "Epoch 38/50\n",
      "13/13 [==============================] - 22s 2s/step - loss: 0.1073 - accuracy: 0.9615 - val_loss: 0.4333 - val_accuracy: 0.8582\n",
      "Epoch 39/50\n",
      "13/13 [==============================] - 16s 1s/step - loss: 0.1278 - accuracy: 0.9495 - val_loss: 0.3127 - val_accuracy: 0.8507\n",
      "Epoch 40/50\n",
      "13/13 [==============================] - 16s 1s/step - loss: 0.1554 - accuracy: 0.9519 - val_loss: 0.3145 - val_accuracy: 0.8582\n",
      "Epoch 41/50\n",
      "13/13 [==============================] - 17s 1s/step - loss: 0.1152 - accuracy: 0.9663 - val_loss: 0.3147 - val_accuracy: 0.8582\n",
      "Epoch 42/50\n",
      "13/13 [==============================] - 20s 2s/step - loss: 0.1122 - accuracy: 0.9567 - val_loss: 0.2789 - val_accuracy: 0.8806\n",
      "Epoch 43/50\n",
      "13/13 [==============================] - 20s 2s/step - loss: 0.0940 - accuracy: 0.9760 - val_loss: 0.2943 - val_accuracy: 0.8731\n",
      "Epoch 44/50\n",
      "13/13 [==============================] - 21s 2s/step - loss: 0.0988 - accuracy: 0.9688 - val_loss: 0.4952 - val_accuracy: 0.8134\n",
      "Epoch 45/50\n",
      "13/13 [==============================] - 21s 2s/step - loss: 0.1107 - accuracy: 0.9543 - val_loss: 0.2619 - val_accuracy: 0.9104\n",
      "Epoch 46/50\n",
      "13/13 [==============================] - 20s 1s/step - loss: 0.1077 - accuracy: 0.9639 - val_loss: 0.3010 - val_accuracy: 0.8806\n",
      "Epoch 47/50\n",
      "13/13 [==============================] - 20s 2s/step - loss: 0.1024 - accuracy: 0.9736 - val_loss: 0.2510 - val_accuracy: 0.8955\n",
      "Epoch 48/50\n",
      "13/13 [==============================] - 20s 2s/step - loss: 0.0902 - accuracy: 0.9663 - val_loss: 0.2195 - val_accuracy: 0.8955\n",
      "Epoch 49/50\n",
      "13/13 [==============================] - 21s 2s/step - loss: 0.0971 - accuracy: 0.9663 - val_loss: 0.3707 - val_accuracy: 0.8731\n",
      "Epoch 50/50\n",
      "13/13 [==============================] - 18s 1s/step - loss: 0.1042 - accuracy: 0.9760 - val_loss: 0.4456 - val_accuracy: 0.8284\n"
     ]
    }
   ],
   "source": [
    "# fit the model\n",
    "# Run the cell. It will take some time to execute\n",
    "r = model.fit_generator(\n",
    "  training_set,\n",
    "  validation_data=test_set,\n",
    "  epochs=50,\n",
    "  steps_per_epoch=len(training_set),\n",
    "  validation_steps=len(test_set)\n",
    ")"
   ]
  },
  {
   "cell_type": "code",
   "execution_count": 19,
   "id": "6409a9b2",
   "metadata": {},
   "outputs": [
    {
     "data": {
      "image/png": "[encoded data removed]",
      "text/plain": [
       "<Figure size 432x288 with 1 Axes>"
      ]
     },
     "metadata": {
      "needs_background": "light"
     },
     "output_type": "display_data"
    },
    {
     "data": {
      "image/png": "[encoded data removed]",
      "text/plain": [
       "<Figure size 432x288 with 1 Axes>"
      ]
     },
     "metadata": {
      "needs_background": "light"
     },
     "output_type": "display_data"
    },
    {
     "data": {
      "text/plain": [
       "<Figure size 432x288 with 0 Axes>"
      ]
     },
     "metadata": {},
     "output_type": "display_data"
    }
   ],
   "source": [
    "# plot the loss\n",
    "plt.plot(r.history['loss'], label='train loss')\n",
    "plt.plot(r.history['val_loss'], label='val loss')\n",
    "plt.legend()\n",
    "plt.show()\n",
    "plt.savefig('LossVal_loss')\n",
    "\n",
    "# plot the accuracy\n",
    "plt.plot(r.history['accuracy'], label='train acc')\n",
    "plt.plot(r.history['val_accuracy'], label='val acc')\n",
    "plt.legend()\n",
    "plt.show()\n",
    "plt.savefig('AccVal_acc')"
   ]
  },
  {
   "cell_type": "code",
   "execution_count": 20,
   "id": "0e9188a4",
   "metadata": {},
   "outputs": [],
   "source": [
    "# save it as a h5 file\n",
    "\n",
    "\n",
    "from tensorflow.keras.models import load_model\n",
    "\n",
    "model.save('model_vgg19.h5')"
   ]
  },
  {
   "cell_type": "code",
   "execution_count": 21,
   "id": "c90ffe1a",
   "metadata": {},
   "outputs": [],
   "source": [
    "\n",
    "y_pred = model.predict(test_set)"
   ]
  },
  {
   "cell_type": "code",
   "execution_count": 22,
   "id": "c2bfdf09",
   "metadata": {},
   "outputs": [],
   "source": [
    "import numpy as np\n",
    "y_pred = np.argmax(y_pred, axis=1)"
   ]
  },
  {
   "cell_type": "code",
   "execution_count": null,
   "id": "7acd18be",
   "metadata": {},
   "outputs": [],
   "source": []
  },
  {
   "cell_type": "code",
   "execution_count": null,
   "id": "50d2f827",
   "metadata": {},
   "outputs": [],
   "source": []
  },
  {
   "cell_type": "code",
   "execution_count": 23,
   "id": "7d9ec78d",
   "metadata": {},
   "outputs": [],
   "source": [
    "from tensorflow.keras.models import load_model\n",
    "from tensorflow.keras.preprocessing import image"
   ]
  },
  {
   "cell_type": "code",
   "execution_count": 24,
   "id": "2128edd1",
   "metadata": {},
   "outputs": [],
   "source": [
    "model=load_model('model_vgg19.h5')"
   ]
  },
  {
   "cell_type": "code",
   "execution_count": 25,
   "id": "3f511726",
   "metadata": {},
   "outputs": [],
   "source": [
    "img=image.load_img('Dataset/Test/Uninfected/2.png',target_size=(224,224))"
   ]
  },
  {
   "cell_type": "code",
   "execution_count": 26,
   "id": "ca6dbb91",
   "metadata": {},
   "outputs": [
    {
     "data": {
      "text/plain": [
       "array([[[0., 0., 0.],\n",
       "        [0., 0., 0.],\n",
       "        [0., 0., 0.],\n",
       "        ...,\n",
       "        [0., 0., 0.],\n",
       "        [0., 0., 0.],\n",
       "        [0., 0., 0.]],\n",
       "\n",
       "       [[0., 0., 0.],\n",
       "        [0., 0., 0.],\n",
       "        [0., 0., 0.],\n",
       "        ...,\n",
       "        [0., 0., 0.],\n",
       "        [0., 0., 0.],\n",
       "        [0., 0., 0.]],\n",
       "\n",
       "       [[0., 0., 0.],\n",
       "        [0., 0., 0.],\n",
       "        [0., 0., 0.],\n",
       "        ...,\n",
       "        [0., 0., 0.],\n",
       "        [0., 0., 0.],\n",
       "        [0., 0., 0.]],\n",
       "\n",
       "       ...,\n",
       "\n",
       "       [[0., 0., 0.],\n",
       "        [0., 0., 0.],\n",
       "        [0., 0., 0.],\n",
       "        ...,\n",
       "        [0., 0., 0.],\n",
       "        [0., 0., 0.],\n",
       "        [0., 0., 0.]],\n",
       "\n",
       "       [[0., 0., 0.],\n",
       "        [0., 0., 0.],\n",
       "        [0., 0., 0.],\n",
       "        ...,\n",
       "        [0., 0., 0.],\n",
       "        [0., 0., 0.],\n",
       "        [0., 0., 0.]],\n",
       "\n",
       "       [[0., 0., 0.],\n",
       "        [0., 0., 0.],\n",
       "        [0., 0., 0.],\n",
       "        ...,\n",
       "        [0., 0., 0.],\n",
       "        [0., 0., 0.],\n",
       "        [0., 0., 0.]]], dtype=float32)"
      ]
     },
     "execution_count": 26,
     "metadata": {},
     "output_type": "execute_result"
    }
   ],
   "source": [
    "x=image.img_to_array(img)\n",
    "x"
   ]
  },
  {
   "cell_type": "code",
   "execution_count": 27,
   "id": "a33489c9",
   "metadata": {},
   "outputs": [
    {
     "data": {
      "text/plain": [
       "(224, 224, 3)"
      ]
     },
     "execution_count": 27,
     "metadata": {},
     "output_type": "execute_result"
    }
   ],
   "source": [
    "x.shape"
   ]
  },
  {
   "cell_type": "code",
   "execution_count": 28,
   "id": "52f652ff",
   "metadata": {},
   "outputs": [],
   "source": [
    "x=x/255"
   ]
  },
  {
   "cell_type": "code",
   "execution_count": 29,
   "id": "6f0d319b",
   "metadata": {},
   "outputs": [
    {
     "data": {
      "text/plain": [
       "(1, 224, 224, 3)"
      ]
     },
     "execution_count": 29,
     "metadata": {},
     "output_type": "execute_result"
    }
   ],
   "source": [
    "x=np.expand_dims(x,axis=0)\n",
    "img_data=preprocess_input(x)\n",
    "img_data.shape"
   ]
  },
  {
   "cell_type": "code",
   "execution_count": 30,
   "id": "9b0ec894",
   "metadata": {},
   "outputs": [
    {
     "data": {
      "text/plain": [
       "array([[0., 1.]], dtype=float32)"
      ]
     },
     "execution_count": 30,
     "metadata": {},
     "output_type": "execute_result"
    }
   ],
   "source": [
    "model.predict(img_data)"
   ]
  },
  {
   "cell_type": "code",
   "execution_count": 31,
   "id": "544a83e5",
   "metadata": {},
   "outputs": [],
   "source": [
    "a=np.argmax(model.predict(img_data), axis=1)"
   ]
  },
  {
   "cell_type": "code",
   "execution_count": 32,
   "id": "3cd8ad7d",
   "metadata": {},
   "outputs": [
    {
     "name": "stdout",
     "output_type": "stream",
     "text": [
      "Uninfected\n"
     ]
    }
   ],
   "source": [
    "if(a==1):\n",
    "    print(\"Uninfected\")\n",
    "else:\n",
    "    print(\"Infected\")"
   ]
  },
  {
   "cell_type": "code",
   "execution_count": null,
   "id": "1e6101e6",
   "metadata": {},
   "outputs": [],
   "source": []
  }
 ],
 "metadata": {
  "kernelspec": {
   "display_name": "Python 3",
   "language": "python",
   "name": "python3"
  },
  "language_info": {
   "codemirror_mode": {
    "name": "ipython",
    "version": 3
   },
   "file_extension": ".py",
   "mimetype": "text/x-python",
   "name": "python",
   "nbconvert_exporter": "python",
   "pygments_lexer": "ipython3",
   "version": "3.8.8"
  }
 },
 "nbformat": 4,
 "nbformat_minor": 5
}
